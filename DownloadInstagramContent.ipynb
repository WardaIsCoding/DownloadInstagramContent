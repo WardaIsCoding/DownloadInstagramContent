{
 "cells": [
  {
   "cell_type": "markdown",
   "id": "04c2b1a4",
   "metadata": {},
   "source": [
    "<h1> <p style=\"color:purple;\">Download instagram content with Wardaiscoding</p></h1>"
   ]
  },
  {
   "cell_type": "markdown",
   "id": "e246a66a",
   "metadata": {},
   "source": [
    "<h2>Import packages</h2>"
   ]
  },
  {
   "cell_type": "code",
   "execution_count": 1,
   "id": "db82e8f3",
   "metadata": {
    "scrolled": false
   },
   "outputs": [
    {
     "name": "stderr",
     "output_type": "stream",
     "text": [
      "C:\\Users\\ACER\\anaconda3\\lib\\site-packages\\win_unicode_console\\__init__.py:31: RuntimeWarning: sys.stdin.encoding == 'cp1252', whereas sys.stdout.encoding == 'UTF-8', readline hook consumer may assume they are the same\n",
      "  readline_hook.enable(use_pyreadline=use_pyreadline)\n"
     ]
    }
   ],
   "source": [
    "import instaloader\n",
    "import json\n",
    "import requests"
   ]
  },
  {
   "cell_type": "markdown",
   "id": "9f8afdfe",
   "metadata": {},
   "source": [
    "<h2>Load credentials</h2>"
   ]
  },
  {
   "cell_type": "markdown",
   "id": "e5b2d3e0",
   "metadata": {},
   "source": [
    "<b>Load the file containing credentials <font style=\"color:green\"> 'YourInstagramCredentials.txt'</font></b>"
   ]
  },
  {
   "cell_type": "code",
   "execution_count": null,
   "id": "ae17f2d2",
   "metadata": {},
   "outputs": [],
   "source": [
    "with open('YourInstagramCredentials.txt', 'r') as f:\n",
    "  data = json.load(f)"
   ]
  },
  {
   "cell_type": "markdown",
   "id": "876a3193",
   "metadata": {},
   "source": [
    "<h2>Create instaloader instance</h2>"
   ]
  },
  {
   "cell_type": "code",
   "execution_count": 9,
   "id": "b5be1c8c",
   "metadata": {},
   "outputs": [],
   "source": [
    "L = instaloader.Instaloader()"
   ]
  },
  {
   "cell_type": "markdown",
   "id": "a5d993eb",
   "metadata": {},
   "source": [
    "<h2>Login into your acccount</h2>"
   ]
  },
  {
   "cell_type": "code",
   "execution_count": null,
   "id": "531b0f68",
   "metadata": {},
   "outputs": [],
   "source": [
    "L.login(data['User_id'], data['PassWord'])        # (login)"
   ]
  },
  {
   "cell_type": "markdown",
   "id": "0faececd",
   "metadata": {},
   "source": [
    "<h2> Get instagram shortcut </h2>"
   ]
  },
  {
   "cell_type": "markdown",
   "id": "daab94fb",
   "metadata": {},
   "source": [
    "<b>Enter instagram content url</b>"
   ]
  },
  {
   "cell_type": "code",
   "execution_count": 10,
   "id": "e7a28a60",
   "metadata": {},
   "outputs": [
    {
     "name": "stdout",
     "output_type": "stream",
     "text": [
      "https://www.instagram.com/reel/CorPu0vIb7l/?igshid=MDJmNzVkMjY=\n"
     ]
    }
   ],
   "source": [
    "ContextURinput=input()"
   ]
  },
  {
   "cell_type": "markdown",
   "id": "79d2bad3",
   "metadata": {},
   "source": [
    "<b>Extract the instagram short code</b>"
   ]
  },
  {
   "cell_type": "code",
   "execution_count": 11,
   "id": "fe50159d",
   "metadata": {},
   "outputs": [],
   "source": [
    "Shortcode=ContextURinput.split('/')[4]"
   ]
  },
  {
   "cell_type": "code",
   "execution_count": 20,
   "id": "53e8f560",
   "metadata": {},
   "outputs": [
    {
     "name": "stdout",
     "output_type": "stream",
     "text": [
      "CorPu0vIb7l\n"
     ]
    }
   ],
   "source": [
    "print(Shortcode)"
   ]
  },
  {
   "cell_type": "markdown",
   "id": "cc465326",
   "metadata": {},
   "source": [
    "<h2>Get the content object</h2>"
   ]
  },
  {
   "cell_type": "code",
   "execution_count": 13,
   "id": "e0b4be9f",
   "metadata": {},
   "outputs": [],
   "source": [
    "Post=instaloader.Post.from_shortcode(L.context,Shortcode)"
   ]
  },
  {
   "cell_type": "markdown",
   "id": "35f556e7",
   "metadata": {},
   "source": [
    "<h2> Download the video/image</h2>"
   ]
  },
  {
   "cell_type": "code",
   "execution_count": 18,
   "id": "dc0c4018",
   "metadata": {},
   "outputs": [],
   "source": [
    "if not Post.is_video:\n",
    "    content_data = requests.get(Post.url).content\n",
    "    with open(Shortcode+'.jpg', 'wb') as handler:\n",
    "        handler.write(content_data)\n",
    "else:\n",
    "    content_data = requests.get(Post.video_url).content\n",
    "    with open(Shortcode+'.mp4', 'wb') as handler:\n",
    "        handler.write(content_data)         "
   ]
  }
 ],
 "metadata": {
  "kernelspec": {
   "display_name": "Python 3 (ipykernel)",
   "language": "python",
   "name": "python3"
  },
  "language_info": {
   "codemirror_mode": {
    "name": "ipython",
    "version": 3
   },
   "file_extension": ".py",
   "mimetype": "text/x-python",
   "name": "python",
   "nbconvert_exporter": "python",
   "pygments_lexer": "ipython3",
   "version": "3.9.7"
  }
 },
 "nbformat": 4,
 "nbformat_minor": 5
}
